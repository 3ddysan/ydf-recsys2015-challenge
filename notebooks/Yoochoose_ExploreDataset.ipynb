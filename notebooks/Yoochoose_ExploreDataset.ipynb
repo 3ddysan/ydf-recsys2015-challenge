{
 "cells": [
  {
   "cell_type": "markdown",
   "metadata": {},
   "source": [
    "# Yoochoose: Explore Dataset"
   ]
  },
  {
   "cell_type": "code",
   "execution_count": 1,
   "metadata": {
    "collapsed": false
   },
   "outputs": [
    {
     "name": "stdout",
     "output_type": "stream",
     "text": [
      "Populating the interactive namespace from numpy and matplotlib\n"
     ]
    }
   ],
   "source": [
    "%pylab inline\n",
    "!mkdir -p exports"
   ]
  },
  {
   "cell_type": "markdown",
   "metadata": {},
   "source": [
    "## Table with features of train set"
   ]
  },
  {
   "cell_type": "code",
   "execution_count": 2,
   "metadata": {
    "collapsed": false
   },
   "outputs": [
    {
     "name": "stdout",
     "output_type": "stream",
     "text": []
    }
   ],
   "source": [
    "%spark\n",
    "\n",
    "from utils import *\n",
    "sc.addPyFile('utils.py')\n",
    "\n",
    "train_sessions, test_sessions = load_sessions(sc)"
   ]
  },
  {
   "cell_type": "code",
   "execution_count": 3,
   "metadata": {
    "collapsed": false
   },
   "outputs": [
    {
     "name": "stdout",
     "output_type": "stream",
     "text": [
      "Train sessions: 9249729\n",
      "Test sessions:  2312432\n"
     ]
    }
   ],
   "source": [
    "print 'Train sessions:', train_sessions.count()\n",
    "print 'Test sessions: ', test_sessions.count()"
   ]
  },
  {
   "cell_type": "code",
   "execution_count": 4,
   "metadata": {
    "collapsed": false
   },
   "outputs": [],
   "source": [
    "import collections\n",
    "\n",
    "def extract_session_features((session_id, (clicks, buys))):\n",
    "    start_time = min(ts for ts, _, _ in clicks)\n",
    "    \n",
    "    item_most_clicked = None\n",
    "    item_clicks = collections.Counter()\n",
    "    for ts, item_id, cat in clicks:\n",
    "        item_clicks[item_id] += 1\n",
    "        if item_clicks[item_id] > item_clicks[item_most_clicked]:\n",
    "            item_most_clicked = item_id\n",
    "    \n",
    "    return Row(\n",
    "        clicks=len(clicks),\n",
    "        buys=len(buys),\n",
    "        buyer=len(buys) > 0,\n",
    "        clicked_items=len(set(item_id for ts, item_id, cat in clicks)),\n",
    "        weekday=start_time.weekday(),\n",
    "        hour_of_day=start_time.hour,\n",
    "        day=start_time.strftime('%m/%d'),\n",
    "        item_most_clicked=item_most_clicked,\n",
    "    )\n",
    "\n",
    "table_sessions = train_sessions.map(extract_session_features).toDF().toPandas()"
   ]
  },
  {
   "cell_type": "code",
   "execution_count": 5,
   "metadata": {
    "collapsed": false
   },
   "outputs": [
    {
     "data": {
      "text/html": [
       "<div>\n",
       "<table border=\"1\" class=\"dataframe\">\n",
       "  <thead>\n",
       "    <tr style=\"text-align: right;\">\n",
       "      <th></th>\n",
       "      <th>buyer</th>\n",
       "      <th>buys</th>\n",
       "      <th>clicked_items</th>\n",
       "      <th>clicks</th>\n",
       "      <th>day</th>\n",
       "      <th>hour_of_day</th>\n",
       "      <th>item_most_clicked</th>\n",
       "      <th>weekday</th>\n",
       "    </tr>\n",
       "  </thead>\n",
       "  <tbody>\n",
       "    <tr>\n",
       "      <th>0</th>\n",
       "      <td>False</td>\n",
       "      <td>0</td>\n",
       "      <td>1</td>\n",
       "      <td>3</td>\n",
       "      <td>05/23</td>\n",
       "      <td>18</td>\n",
       "      <td>214691537</td>\n",
       "      <td>4</td>\n",
       "    </tr>\n",
       "    <tr>\n",
       "      <th>1</th>\n",
       "      <td>False</td>\n",
       "      <td>0</td>\n",
       "      <td>5</td>\n",
       "      <td>8</td>\n",
       "      <td>04/21</td>\n",
       "      <td>16</td>\n",
       "      <td>214820392</td>\n",
       "      <td>0</td>\n",
       "    </tr>\n",
       "    <tr>\n",
       "      <th>2</th>\n",
       "      <td>False</td>\n",
       "      <td>0</td>\n",
       "      <td>4</td>\n",
       "      <td>4</td>\n",
       "      <td>04/24</td>\n",
       "      <td>10</td>\n",
       "      <td>214828959</td>\n",
       "      <td>3</td>\n",
       "    </tr>\n",
       "    <tr>\n",
       "      <th>3</th>\n",
       "      <td>False</td>\n",
       "      <td>0</td>\n",
       "      <td>1</td>\n",
       "      <td>1</td>\n",
       "      <td>08/27</td>\n",
       "      <td>12</td>\n",
       "      <td>214850949</td>\n",
       "      <td>2</td>\n",
       "    </tr>\n",
       "    <tr>\n",
       "      <th>4</th>\n",
       "      <td>True</td>\n",
       "      <td>1</td>\n",
       "      <td>3</td>\n",
       "      <td>3</td>\n",
       "      <td>08/29</td>\n",
       "      <td>1</td>\n",
       "      <td>214691338</td>\n",
       "      <td>4</td>\n",
       "    </tr>\n",
       "  </tbody>\n",
       "</table>\n",
       "</div>"
      ],
      "text/plain": [
       "   buyer  buys  clicked_items  clicks    day  hour_of_day item_most_clicked  \\\n",
       "0  False     0              1       3  05/23           18         214691537   \n",
       "1  False     0              5       8  04/21           16         214820392   \n",
       "2  False     0              4       4  04/24           10         214828959   \n",
       "3  False     0              1       1  08/27           12         214850949   \n",
       "4   True     1              3       3  08/29            1         214691338   \n",
       "\n",
       "   weekday  \n",
       "0        4  \n",
       "1        0  \n",
       "2        3  \n",
       "3        2  \n",
       "4        4  "
      ]
     },
     "execution_count": 5,
     "metadata": {},
     "output_type": "execute_result"
    }
   ],
   "source": [
    "table_sessions.head()"
   ]
  },
  {
   "cell_type": "code",
   "execution_count": 6,
   "metadata": {
    "collapsed": true
   },
   "outputs": [],
   "source": [
    "sc.stop()"
   ]
  },
  {
   "cell_type": "markdown",
   "metadata": {},
   "source": [
    "## Buying rate vs. time"
   ]
  },
  {
   "cell_type": "code",
   "execution_count": 7,
   "metadata": {
    "collapsed": false
   },
   "outputs": [
    {
     "data": {
      "image/png": "[encoded data removed]",
      "text/plain": [
       "<matplotlib.figure.Figure at 0x46a0610>"
      ]
     },
     "metadata": {},
     "output_type": "display_data"
    }
   ],
   "source": [
    "df_buyrate_day = table_sessions.groupby('day')['buyer'].mean()\n",
    "df_buyrate_day.sort_index().plot(figsize=(5, 2), grid=True, linewidth=1)\n",
    "ylabel('buying rate')\n",
    "savefig('exports/dataset_buyrate_day.pdf', bbox_inches='tight')"
   ]
  },
  {
   "cell_type": "code",
   "execution_count": 8,
   "metadata": {
    "collapsed": false
   },
   "outputs": [
    {
     "data": {
      "image/png": "[encoded data removed]",
      "text/plain": [
       "<matplotlib.figure.Figure at 0xf8f8c50>"
      ]
     },
     "metadata": {},
     "output_type": "display_data"
    }
   ],
   "source": [
    "fig, axs = subplots(1, 2, figsize=(5, 2))\n",
    "\n",
    "#fig.subplots_adjust(hspace=.01)\n",
    "df_buyrate_hour = table_sessions.groupby('hour_of_day')['buyer'].mean()\n",
    "df_buyrate_hour.sort_index().plot(ax=axs[0], grid=True, linewidth=2, ylim=(0.02, 0.07))\n",
    "axs[0].set_ylabel('buying rate')\n",
    "axs[0].set_xlabel('hour of day')\n",
    "\n",
    "WEEKDAY_TO_NAME = {\n",
    "    0: 'Mon',\n",
    "    1: 'Tue',\n",
    "    2: 'Wed',\n",
    "    3: 'Thu',\n",
    "    4: 'Fri',\n",
    "    5: 'Sat',\n",
    "    6: 'Sun',\n",
    "}\n",
    "\n",
    "df_buyrate_weekday = table_sessions.groupby('weekday')['buyer'].mean()\n",
    "df_buyrate_weekday = df_buyrate_weekday.sort_index().reset_index()\n",
    "df_buyrate_weekday['weekday'] = df_buyrate_weekday['weekday'].map(lambda n: WEEKDAY_TO_NAME[n])\n",
    "df_buyrate_weekday = df_buyrate_weekday.set_index('weekday')\n",
    "df_buyrate_weekday.plot(ax=axs[1], kind='bar', legend=False, ylim=(0.02, 0.07), grid=True, sharey=True)\n",
    "\n",
    "savefig('exports/dataset_buyrate_hour_weekday.pdf', bbox_inches='tight')"
   ]
  },
  {
   "cell_type": "markdown",
   "metadata": {},
   "source": [
    "## Buying rate vs. number of clicks and ItemID"
   ]
  },
  {
   "cell_type": "code",
   "execution_count": 9,
   "metadata": {
    "collapsed": false
   },
   "outputs": [
    {
     "data": {
      "image/png": "[encoded data removed]",
      "text/plain": [
       "<matplotlib.figure.Figure at 0xf8f8ad0>"
      ]
     },
     "metadata": {},
     "output_type": "display_data"
    }
   ],
   "source": [
    "fig, axs = subplots(1, 2, figsize=(5, 2))\n",
    "\n",
    "df_buyrate_clicks = table_sessions.query('0 < clicked_items <= 20').groupby('clicked_items')['buyer'].mean()\n",
    "df_buyrate_clicks.sort_index().plot(ax=axs[0], linewidth=2)\n",
    "axs[0].set_ylabel('buying rate')\n",
    "axs[0].set_xlabel('clicks in session')\n",
    "axs[0].grid(True)\n",
    "axs[0].set_ylim((0.00, 0.25))\n",
    "\n",
    "df_most_clicked = table_sessions.groupby('item_most_clicked')['buyer']\\\n",
    "    .agg(['mean', 'count'])\\\n",
    "    .sort('count', ascending=False)\\\n",
    "    .head(n=12)\n",
    "df_most_clicked = df_most_clicked.reset_index()\n",
    "df_most_clicked['item_most_clicked'] = df_most_clicked['item_most_clicked'].map(\n",
    "    lambda s: s[:2] + '...' + s[-3:])\n",
    "df_most_clicked = df_most_clicked.set_index('item_most_clicked')\n",
    "df_most_clicked['mean'].plot(ax=axs[1], kind='bar', alpha=0.8, sharey=True)\n",
    "axs[1].set_xlabel('most clicked item (id)')\n",
    "axs[1].grid(True)\n",
    "axs[1].set_ylim((0.00, 0.25))\n",
    "\n",
    "for item in axs[1].get_xticklabels():\n",
    "    item.set_fontsize(7)\n",
    "    \n",
    "fig.savefig('exports/dataset_buyrate_clicks_items.eps', bbox_inches='tight')\n",
    "fig.savefig('exports/dataset_buyrate_clicks_items.pdf', bbox_inches='tight')"
   ]
  }
 ],
 "metadata": {
  "kernelspec": {
   "display_name": "Python 2",
   "language": "python",
   "name": "python2"
  },
  "language_info": {
   "codemirror_mode": {
    "name": "ipython",
    "version": 2
   },
   "file_extension": ".py",
   "mimetype": "text/x-python",
   "name": "python",
   "nbconvert_exporter": "python",
   "pygments_lexer": "ipython2",
   "version": "2.7.8"
  }
 },
 "nbformat": 4,
 "nbformat_minor": 0
}
