{
 "cells": [
  {
   "cell_type": "markdown",
   "metadata": {},
   "source": [
    "# Yoochoose: Make final predictions and prepare submission"
   ]
  },
  {
   "cell_type": "code",
   "execution_count": 1,
   "metadata": {
    "collapsed": false
   },
   "outputs": [
    {
     "name": "stdout",
     "output_type": "stream",
     "text": [
      "Populating the interactive namespace from numpy and matplotlib\n"
     ]
    }
   ],
   "source": [
    "%pylab inline\n",
    "import os\n",
    "import sklearn\n",
    "import pandas\n",
    "import collections\n",
    "from scipy.optimize import fmin_powell"
   ]
  },
  {
   "cell_type": "code",
   "execution_count": 2,
   "metadata": {
    "collapsed": false
   },
   "outputs": [],
   "source": [
    "purchase_predictions_path = '../data/predictions/purchase/'\n",
    "item_predictions_path = '../data/predictions/item/'"
   ]
  },
  {
   "cell_type": "code",
   "execution_count": 3,
   "metadata": {
    "collapsed": true
   },
   "outputs": [],
   "source": [
    "!mkdir -p exports"
   ]
  },
  {
   "cell_type": "markdown",
   "metadata": {},
   "source": [
    "## Load validation predictions"
   ]
  },
  {
   "cell_type": "code",
   "execution_count": 4,
   "metadata": {
    "collapsed": true
   },
   "outputs": [],
   "source": [
    "from sklearn.metrics import roc_curve, roc_auc_score"
   ]
  },
  {
   "cell_type": "code",
   "execution_count": 5,
   "metadata": {
    "collapsed": false
   },
   "outputs": [],
   "source": [
    "valid_purchase = pandas.read_csv(\n",
    "    os.path.join(purchase_predictions_path, 'valid'),\n",
    "    sep='\\t',\n",
    "    names=['session_id', 'target', 'item_id', 'weight', 'prediction'],\n",
    ")\n",
    "\n",
    "valid_item = pandas.read_csv(\n",
    "    os.path.join(item_predictions_path, 'valid'),\n",
    "    sep='\\t',\n",
    "    names=['session_id', 'target', 'item_id', 'weight', 'prediction'],\n",
    ")"
   ]
  },
  {
   "cell_type": "markdown",
   "metadata": {},
   "source": [
    "## Items prediction threshold"
   ]
  },
  {
   "cell_type": "code",
   "execution_count": 6,
   "metadata": {
    "collapsed": true
   },
   "outputs": [],
   "source": [
    "def jaccard_by_thresh(thresh):\n",
    "    valid_item['decision'] = valid_item['prediction'] >= thresh\n",
    "    valid_item['union'] = valid_item['target'] | valid_item['decision']\n",
    "    valid_item['intersection'] = valid_item['target'] & valid_item['decision']\n",
    "    union_and_intersection = valid_item.ix[:, ['session_id', 'union', 'intersection']].groupby('session_id').sum()\n",
    "    jaccard = union_and_intersection['intersection'].astype(float) / union_and_intersection['union']\n",
    "    jaccard.name = 'jaccard'\n",
    "    return jaccard"
   ]
  },
  {
   "cell_type": "code",
   "execution_count": 7,
   "metadata": {
    "collapsed": false
   },
   "outputs": [
    {
     "name": "stdout",
     "output_type": "stream",
     "text": [
      "Best point: thresh = -0.433641, probability = 0.393257, jaccard = 0.765462\n"
     ]
    },
    {
     "data": {
      "image/png": "[encoded data removed]",
      "text/plain": [
       "<matplotlib.figure.Figure at 0x56ca590>"
      ]
     },
     "metadata": {},
     "output_type": "display_data"
    },
    {
     "data": {
      "image/png": "[encoded data removed]",
      "text/plain": [
       "<matplotlib.figure.Figure at 0x5731b10>"
      ]
     },
     "metadata": {},
     "output_type": "display_data"
    }
   ],
   "source": [
    "item_thresh_values = linspace(valid_item['prediction'].min(), valid_item['prediction'].max(), 300)\n",
    "item_thresh_prob = 1.0 / (1.0 + np.exp(-item_thresh_values))\n",
    "item_thresh_jaccard = np.array([\n",
    "    jaccard_by_thresh(thresh).mean() for thresh in item_thresh_values\n",
    "])\n",
    "optimal_idx = np.argmax(item_thresh_jaccard)\n",
    "optimal_item_thresh = item_thresh_values[optimal_idx]\n",
    "optimal_item_thresh_prob = item_thresh_prob[optimal_idx]\n",
    "optimal_item_jaccard = item_thresh_jaccard[optimal_idx]\n",
    "\n",
    "\n",
    "figure(figsize=(5, 2.5))\n",
    "plot(item_thresh_values, item_thresh_jaccard, linewidth=2)\n",
    "plot(optimal_item_thresh, optimal_item_jaccard, '^r')\n",
    "xlabel('threshold for log-odds')\n",
    "ylabel('validation mean Jaccard')\n",
    "grid(True)\n",
    "xlim([-6, 10])\n",
    "savefig('exports/item_prediction_thresh_jaccard.pdf', bbox_inches='tight')\n",
    "\n",
    "figure(figsize=(5, 2.5))\n",
    "plot(item_thresh_prob, item_thresh_jaccard, linewidth=2)\n",
    "plot(optimal_item_thresh_prob, optimal_item_jaccard, '^r')\n",
    "xlabel('threshold for probability')\n",
    "ylabel('validation mean Jaccard')\n",
    "grid(True)\n",
    "savefig('exports/item_prediction_thresh_jaccard_prob.pdf', bbox_inches='tight')\n",
    "\n",
    "print 'Best point: thresh = %f, probability = %f, jaccard = %f' % (\n",
    "    optimal_item_thresh, 1.0/(1.0 + np.exp(-optimal_item_thresh)), item_thresh_jaccard[optimal_idx])"
   ]
  },
  {
   "cell_type": "code",
   "execution_count": 8,
   "metadata": {
    "collapsed": false
   },
   "outputs": [
    {
     "name": "stdout",
     "output_type": "stream",
     "text": [
      "Optimization terminated successfully.\n",
      "         Current function value: -0.765529\n",
      "         Iterations: 1\n",
      "         Function evaluations: 36\n",
      "After tuning: thresh = -0.430068, probability = 0.394110, jaccard = 0.765462\n"
     ]
    }
   ],
   "source": [
    "xopt = fmin_powell(lambda x: -jaccard_by_thresh(x[0]).mean(), x0=np.array(optimal_item_thresh), xtol=1e-7)\n",
    "optimal_item_thresh = float(xopt)\n",
    "\n",
    "print 'After tuning: thresh = %f, probability = %f, jaccard = %f' % (\n",
    "    optimal_item_thresh, 1.0/(1.0 + np.exp(-optimal_item_thresh)), item_thresh_jaccard[optimal_idx])"
   ]
  },
  {
   "cell_type": "markdown",
   "metadata": {},
   "source": [
    "## Session purchase threshold"
   ]
  },
  {
   "cell_type": "code",
   "execution_count": 9,
   "metadata": {
    "collapsed": false
   },
   "outputs": [],
   "source": [
    "jaccard = jaccard_by_thresh(optimal_item_thresh)\n",
    "valid_purchase_items = valid_purchase.join(jaccard, on='session_id', how='left').fillna(0)"
   ]
  },
  {
   "cell_type": "code",
   "execution_count": 10,
   "metadata": {
    "collapsed": false
   },
   "outputs": [
    {
     "data": {
      "text/html": [
       "<div>\n",
       "<table border=\"1\" class=\"dataframe\">\n",
       "  <thead>\n",
       "    <tr style=\"text-align: right;\">\n",
       "      <th></th>\n",
       "      <th>session_id</th>\n",
       "      <th>target</th>\n",
       "      <th>item_id</th>\n",
       "      <th>weight</th>\n",
       "      <th>prediction</th>\n",
       "      <th>jaccard</th>\n",
       "    </tr>\n",
       "  </thead>\n",
       "  <tbody>\n",
       "    <tr>\n",
       "      <th>0</th>\n",
       "      <td>4636233</td>\n",
       "      <td>0</td>\n",
       "      <td>0</td>\n",
       "      <td>0</td>\n",
       "      <td>-2.424682</td>\n",
       "      <td>0</td>\n",
       "    </tr>\n",
       "    <tr>\n",
       "      <th>1</th>\n",
       "      <td>8961633</td>\n",
       "      <td>0</td>\n",
       "      <td>0</td>\n",
       "      <td>0</td>\n",
       "      <td>-4.398143</td>\n",
       "      <td>0</td>\n",
       "    </tr>\n",
       "    <tr>\n",
       "      <th>2</th>\n",
       "      <td>835233</td>\n",
       "      <td>0</td>\n",
       "      <td>0</td>\n",
       "      <td>0</td>\n",
       "      <td>-3.775572</td>\n",
       "      <td>0</td>\n",
       "    </tr>\n",
       "    <tr>\n",
       "      <th>3</th>\n",
       "      <td>1097433</td>\n",
       "      <td>0</td>\n",
       "      <td>0</td>\n",
       "      <td>0</td>\n",
       "      <td>-4.488155</td>\n",
       "      <td>0</td>\n",
       "    </tr>\n",
       "    <tr>\n",
       "      <th>4</th>\n",
       "      <td>2539233</td>\n",
       "      <td>0</td>\n",
       "      <td>0</td>\n",
       "      <td>0</td>\n",
       "      <td>-4.899196</td>\n",
       "      <td>0</td>\n",
       "    </tr>\n",
       "  </tbody>\n",
       "</table>\n",
       "</div>"
      ],
      "text/plain": [
       "   session_id  target  item_id  weight  prediction  jaccard\n",
       "0     4636233       0        0       0   -2.424682        0\n",
       "1     8961633       0        0       0   -4.398143        0\n",
       "2      835233       0        0       0   -3.775572        0\n",
       "3     1097433       0        0       0   -4.488155        0\n",
       "4     2539233       0        0       0   -4.899196        0"
      ]
     },
     "execution_count": 10,
     "metadata": {},
     "output_type": "execute_result"
    }
   ],
   "source": [
    "valid_purchase_items.head()"
   ]
  },
  {
   "cell_type": "code",
   "execution_count": 11,
   "metadata": {
    "collapsed": false
   },
   "outputs": [
    {
     "name": "stdout",
     "output_type": "stream",
     "text": [
      "Best purchase thresh: thresh = -2.967180, probability = 0.048931, score = 20904.575474\n"
     ]
    },
    {
     "data": {
      "text/plain": [
       "prediction         -2.967180\n",
       "jaccard             1.000000\n",
       "target              1.000000\n",
       "probability         0.048931\n",
       "sum_jaccard     29770.947152\n",
       "tp              39279.000000\n",
       "fp             200760.000000\n",
       "score_tpfp      -8866.371678\n",
       "score           20904.575474\n",
       "Name: 240038, dtype: float64"
      ]
     },
     "execution_count": 11,
     "metadata": {},
     "output_type": "execute_result"
    }
   ],
   "source": [
    "session_predictions = valid_purchase_items\\\n",
    "    .ix[:, ['prediction', 'jaccard', 'target']]\\\n",
    "    .sort('prediction', ascending=False)\\\n",
    "    .reset_index(drop=True)\n",
    "    \n",
    "session_predictions['probability'] = 1.0 / (1.0 + np.exp(-session_predictions['prediction']))\n",
    "session_predictions['sum_jaccard'] = session_predictions['jaccard'].cumsum()\n",
    "session_predictions['tp'] = session_predictions['target'].cumsum()\n",
    "session_predictions['fp'] = (1 - session_predictions['target']).cumsum()\n",
    "\n",
    "n_positive = session_predictions['target'].sum()\n",
    "n_negative = (1 - session_predictions['target']).sum()\n",
    "n_sessions = session_predictions.shape[0]\n",
    "\n",
    "session_predictions['score_tpfp'] = (float(n_positive) / n_sessions) * (session_predictions['tp'] - session_predictions['fp'])\n",
    "session_predictions['score'] = session_predictions['score_tpfp'] + session_predictions['sum_jaccard']\n",
    "\n",
    "optimal_idx = session_predictions['score'].argmax()\n",
    "optimal_purchase_thresh = session_predictions.ix[optimal_idx, 'prediction']\n",
    "optimal_purchase_thresh_prob = session_predictions.ix[optimal_idx, 'probability']\n",
    "valid_score = session_predictions.ix[optimal_idx, 'score']\n",
    "\n",
    "print 'Best purchase thresh: thresh = %f, probability = %f, score = %f' % (\n",
    "    optimal_purchase_thresh, optimal_purchase_thresh_prob, valid_score)\n",
    "\n",
    "session_predictions.ix[optimal_idx, :]"
   ]
  },
  {
   "cell_type": "code",
   "execution_count": 12,
   "metadata": {
    "collapsed": false
   },
   "outputs": [
    {
     "data": {
      "image/png": "[encoded data removed]",
      "text/plain": [
       "<matplotlib.figure.Figure at 0x5df3610>"
      ]
     },
     "metadata": {},
     "output_type": "display_data"
    },
    {
     "data": {
      "image/png": "[encoded data removed]",
      "text/plain": [
       "<matplotlib.figure.Figure at 0x66cea50>"
      ]
     },
     "metadata": {},
     "output_type": "display_data"
    }
   ],
   "source": [
    "figure(figsize=(5, 3))\n",
    "plot(session_predictions['prediction'], session_predictions['score'], linewidth=2)\n",
    "plot(session_predictions['prediction'], session_predictions['score_tpfp'], 'r--', linewidth=2)\n",
    "plot(session_predictions['prediction'], session_predictions['sum_jaccard'], 'g--', linewidth=2)\n",
    "plot(session_predictions.ix[optimal_idx, 'prediction'], session_predictions.ix[optimal_idx, 'score'], '^r')\n",
    "grid(True)\n",
    "xlabel('threshold for log-odds')\n",
    "ylabel('validation score')\n",
    "ylim((-50000, 50000))\n",
    "legend(['total', 'purchase', 'jaccard'], loc='lower right')\n",
    "xlim([-8, 2])\n",
    "\n",
    "savefig('exports/purchase_prediction_thresh_score.pdf', bbox_inches='tight')\n",
    "\n",
    "figure(figsize=(5, 3.5))\n",
    "plot(session_predictions['probability'], session_predictions['score'], linewidth=2)\n",
    "plot(session_predictions['probability'], session_predictions['score_tpfp'], 'r--', linewidth=2)\n",
    "plot(session_predictions['probability'], session_predictions['sum_jaccard'], 'g--', linewidth=2)\n",
    "plot(session_predictions.ix[optimal_idx, 'probability'], session_predictions.ix[optimal_idx, 'score'], '^r')\n",
    "grid(True)\n",
    "xlabel('threshold for probability')\n",
    "ylabel('validation score')\n",
    "legend(['total', 'purchase', 'jaccard'], loc='lower right')\n",
    "xlim([0, 0.5])\n",
    "\n",
    "savefig('exports/purchase_prediction_thresh_score_prob.pdf', bbox_inches='tight')"
   ]
  },
  {
   "cell_type": "markdown",
   "metadata": {},
   "source": [
    "## Make a submission"
   ]
  },
  {
   "cell_type": "markdown",
   "metadata": {},
   "source": [
    "#### Load test predictions and apply thresholds"
   ]
  },
  {
   "cell_type": "code",
   "execution_count": 13,
   "metadata": {
    "collapsed": false
   },
   "outputs": [],
   "source": [
    "test_purchase = pandas.read_csv(\n",
    "    os.path.join(purchase_predictions_path, 'test'), \n",
    "    sep='\\t',\n",
    "    names=['session_id', 'positive', 'item_id', 'weight', 'prediction'],\n",
    ")\n",
    "test_purchase['positive'] = (test_purchase['prediction'] >= optimal_purchase_thresh)\n",
    "\n",
    "test_item = pandas.read_csv(\n",
    "    os.path.join(item_predictions_path, 'test'), \n",
    "    sep='\\t',\n",
    "    names=['session_id', 'bought', 'item_id', 'weight', 'prediction'],\n",
    ")\n",
    "test_item['bought'] = (test_item['prediction'] >= optimal_item_thresh)"
   ]
  },
  {
   "cell_type": "code",
   "execution_count": 14,
   "metadata": {
    "collapsed": true
   },
   "outputs": [],
   "source": [
    "bought_in_session = collections.defaultdict(set)\n",
    "bought_df = test_item.ix[test_item['bought'], ['session_id', 'item_id']]\n",
    "for session_id, item_id in zip(bought_df['session_id'].values, bought_df['item_id'].values):\n",
    "    bought_in_session[session_id].add(item_id)\n",
    "    \n",
    "with open('submission', 'wt') as fout:\n",
    "    positive_session_ids = test_purchase.ix[test_purchase.ix[:, 'positive'], 'session_id'].values\n",
    "    for session_id in positive_session_ids:\n",
    "        if len(bought_in_session[session_id]) > 0:\n",
    "            print >> fout, str(session_id) + ';' + ','.join(map(str, bought_in_session[session_id]))"
   ]
  },
  {
   "cell_type": "code",
   "execution_count": 15,
   "metadata": {
    "collapsed": false
   },
   "outputs": [
    {
     "name": "stdout",
     "output_type": "stream",
     "text": [
      "592785 submission\n",
      "17M\tsubmission\n"
     ]
    }
   ],
   "source": [
    "!wc -l submission\n",
    "!du -hs submission"
   ]
  },
  {
   "cell_type": "markdown",
   "metadata": {},
   "source": [
    "# Prediction quality"
   ]
  },
  {
   "cell_type": "code",
   "execution_count": 16,
   "metadata": {
    "collapsed": true
   },
   "outputs": [],
   "source": [
    "from sklearn import metrics"
   ]
  },
  {
   "cell_type": "markdown",
   "metadata": {},
   "source": [
    "## Purchase classifier"
   ]
  },
  {
   "cell_type": "code",
   "execution_count": 17,
   "metadata": {
    "collapsed": false
   },
   "outputs": [
    {
     "name": "stdout",
     "output_type": "stream",
     "text": [
      "Purchase classifier\n",
      "\n",
      "Optimal purchase decision rule:\n",
      "    [ prediction > -2.967180 ]\n",
      "    [ probability > 0.048931 ]\n",
      "\n",
      "Positive: actual 5.49%, predicted 25.95%\n",
      "TPR = 0.773254, FPR = 0.229609, 1-TPR = 0.226746\n",
      "Precision = 0.163636, Recall = 0.773254\n",
      "AUC = 0.850798, Gini = 0.701595\n"
     ]
    },
    {
     "data": {
      "image/png": "[encoded data removed]",
      "text/plain": [
       "<matplotlib.figure.Figure at 0x5572f50>"
      ]
     },
     "metadata": {},
     "output_type": "display_data"
    }
   ],
   "source": [
    "print 'Purchase classifier'\n",
    "print \n",
    "\n",
    "fpr, tpr, thresh = roc_curve(valid_purchase['target'], valid_purchase['prediction'])\n",
    "\n",
    "\n",
    "figure(figsize=(4, 3.5))\n",
    "plot(fpr, tpr, linewidth=2)\n",
    "plot([0, 1], [0, 1], '--k')\n",
    "grid(True)\n",
    "title('Purchase detection ROC')\n",
    "xlabel('FPR')\n",
    "ylabel('TPR')\n",
    "\n",
    "print 'Optimal purchase decision rule:'\n",
    "print '    [ prediction > %f ]' % optimal_purchase_thresh\n",
    "print '    [ probability > %f ]' % optimal_purchase_thresh_prob\n",
    "print \n",
    "\n",
    "\n",
    "purchase_actual = valid_purchase['target']\n",
    "purchase_predicted = valid_purchase['prediction'] >= optimal_purchase_thresh\n",
    "print 'Positive: actual %.2f%%, predicted %.2f%%' % (purchase_actual.mean() * 100, purchase_predicted.mean() * 100)\n",
    "\n",
    "purchase_tpr = (purchase_predicted & purchase_actual).astype(float).sum() / purchase_actual.sum()\n",
    "purchase_fpr = (purchase_predicted & (1 - purchase_actual)).astype(float).sum() / (1 - purchase_actual).sum()\n",
    "\n",
    "print 'TPR = %f, FPR = %f, 1-TPR = %f' % (purchase_tpr, purchase_fpr, 1-purchase_tpr)\n",
    "print 'Precision = %f, Recall = %f' % (metrics.precision_score(purchase_actual, purchase_predicted), \n",
    "                                       metrics.recall_score(purchase_actual, purchase_predicted))\n",
    "\n",
    "auc_purchase = roc_auc_score(valid_purchase['target'], valid_purchase['prediction'])\n",
    "print 'AUC = %f, Gini = %f' % (auc_purchase, 2*auc_purchase - 1)\n",
    "\n",
    "plot(purchase_fpr, purchase_tpr, 'rs')\n",
    "\n",
    "savefig('exports/purchase_prediction_roc.pdf')"
   ]
  },
  {
   "cell_type": "markdown",
   "metadata": {},
   "source": [
    "## Item classifier"
   ]
  },
  {
   "cell_type": "code",
   "execution_count": 18,
   "metadata": {
    "collapsed": false
   },
   "outputs": [
    {
     "name": "stdout",
     "output_type": "stream",
     "text": [
      "Item classifier\n",
      "\n",
      "Optimal item decision rule:\n",
      "    [ prediction > -0.430068 ]\n",
      "    [ probability > 0.394110 ]\n",
      "\n",
      "Positive: actual 45.30%, predicted 51.22%\n",
      "TPR = 0.852283, FPR = 0.230477, 1-TPR = 0.147717\n",
      "Precision = 0.753841, Recall = 0.852283\n",
      "AUC = 0.898442, Gini = 0.796885\n"
     ]
    },
    {
     "data": {
      "image/png": "[encoded data removed]",
      "text/plain": [
       "<matplotlib.figure.Figure at 0x5dcc850>"
      ]
     },
     "metadata": {},
     "output_type": "display_data"
    }
   ],
   "source": [
    "print 'Item classifier'\n",
    "print\n",
    "\n",
    "fpr, tpr, thresh = roc_curve(valid_item['target'], valid_item['prediction'])\n",
    "auc_bought = roc_auc_score(valid_item['target'], valid_item['prediction'])\n",
    "\n",
    "figure(figsize=(4, 3.5))\n",
    "plot(fpr, tpr, linewidth=2)\n",
    "plot([0, 1], [0, 1], '--k')\n",
    "grid(True)\n",
    "xlabel('FPR')\n",
    "ylabel('TPR')\n",
    "title('Item detection ROC')\n",
    "\n",
    "print 'Optimal item decision rule:'\n",
    "print '    [ prediction > %f ]' % optimal_item_thresh\n",
    "print '    [ probability > %f ]' % (1.0 / (1 + np.exp(-optimal_item_thresh)))\n",
    "print \n",
    "\n",
    "item_actual = valid_item['target']\n",
    "item_predicted = valid_item['prediction'] >= optimal_item_thresh\n",
    "print 'Positive: actual %.2f%%, predicted %.2f%%' % (item_actual.mean() * 100, item_predicted.mean() * 100)\n",
    "\n",
    "item_tpr = (item_predicted & item_actual).astype(float).sum() / item_actual.sum()\n",
    "item_fpr = (item_predicted & (1 - item_actual)).astype(float).sum() / (1 - item_actual).sum()\n",
    "\n",
    "print 'TPR = %f, FPR = %f, 1-TPR = %f' % (item_tpr, item_fpr, 1-item_tpr)\n",
    "print 'Precision = %f, Recall = %f' % (metrics.precision_score(item_actual, item_predicted), \n",
    "                                       metrics.recall_score(item_actual, item_predicted))\n",
    "\n",
    "auc_item = roc_auc_score(valid_item['target'], valid_item['prediction'])\n",
    "print 'AUC = %f, Gini = %f' % (auc_item, 2*auc_item - 1)\n",
    "\n",
    "plot(item_fpr, item_tpr, 'rs')\n",
    "\n",
    "savefig('exports/item_prediction_roc.pdf')"
   ]
  },
  {
   "cell_type": "markdown",
   "metadata": {},
   "source": [
    "## Answer to the task"
   ]
  },
  {
   "cell_type": "code",
   "execution_count": 20,
   "metadata": {
    "collapsed": false
   },
   "outputs": [
    {
     "name": "stdout",
     "output_type": "stream",
     "text": [
      "Quality of answers to the task\n",
      "\n",
      "Computed on validation set (10% of train set)\n",
      "\n",
      "Max achievable score:   53586.09 = 2789.09 (max purchase) +   50797.00 (max jaccard)\n",
      "Score gained:           20904.58 = -8866.37 (purchase)    +   29770.95 (jaccard)\n",
      "Gained percent: 39.01%\n"
     ]
    }
   ],
   "source": [
    "purchase_tp = (purchase_actual & purchase_predicted).sum()\n",
    "purchase_fp = ((1 - purchase_actual) & purchase_predicted).sum() \n",
    "score_tpfp = (float(purchase_actual.sum()) / purchase_actual.shape[0]) * (purchase_tp - purchase_fp)\n",
    "score_jaccard = valid_purchase_items.ix[purchase_predicted, 'jaccard'].sum()\n",
    "score = score_tpfp + score_jaccard\n",
    "\n",
    "purchase_max_tp = purchase_actual.sum()\n",
    "purchase_max_fp = 0\n",
    "score_max_tpfp = (float(purchase_actual.sum()) / purchase_actual.shape[0]) * (purchase_max_tp - purchase_max_fp)\n",
    "score_max_jaccard = purchase_actual.sum()\n",
    "score_max = score_max_tpfp + score_max_jaccard\n",
    "\n",
    "print 'Quality of answers to the task'\n",
    "print \n",
    "\n",
    "print 'Computed on validation set (10% of train set)'\n",
    "print \n",
    "\n",
    "print 'Max achievable score: %10.2f = %.2f (max purchase) + %10.2f (max jaccard)' % (\n",
    "    score_max, score_max_tpfp, score_max_jaccard) \n",
    "print 'Score gained:         %10.2f = %.2f (purchase)    + %10.2f (jaccard)' % (\n",
    "    score, score_tpfp, score_jaccard)\n",
    "print 'Gained percent: %.2f%%' % (score / score_max * 100)"
   ]
  }
 ],
 "metadata": {
  "kernelspec": {
   "display_name": "Python 2",
   "language": "python",
   "name": "python2"
  },
  "language_info": {
   "codemirror_mode": {
    "name": "ipython",
    "version": 2
   },
   "file_extension": ".py",
   "mimetype": "text/x-python",
   "name": "python",
   "nbconvert_exporter": "python",
   "pygments_lexer": "ipython2",
   "version": "2.7.8"
  }
 },
 "nbformat": 4,
 "nbformat_minor": 0
}
